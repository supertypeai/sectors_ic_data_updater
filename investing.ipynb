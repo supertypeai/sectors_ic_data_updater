{
 "cells": [
  {
   "cell_type": "code",
   "execution_count": 26,
   "metadata": {},
   "outputs": [],
   "source": [
    "import requests\n",
    "import os\n",
    "from dotenv import load_dotenv\n",
    "load_dotenv()\n",
    "import os\n",
    "from supabase import create_client\n",
    "import pandas as pd\n",
    "import datetime\n",
    "from datetime import datetime\n",
    "from dateutil.relativedelta import relativedelta\n",
    "import logging\n",
    "import numpy as np\n",
    "from bs4 import BeautifulSoup"
   ]
  },
  {
   "cell_type": "code",
   "execution_count": 2,
   "metadata": {},
   "outputs": [],
   "source": [
    "url_supabase = os.environ.get(\"SUPABASE_URL\")\n",
    "key = os.environ.get(\"SUPABASE_KEY\")\n",
    "supabase = create_client(url_supabase, key)"
   ]
  },
  {
   "cell_type": "code",
   "execution_count": 48,
   "metadata": {},
   "outputs": [],
   "source": [
    "data_code = supabase.table(\"idx_company_profile\").select(\"*\").execute()\n",
    "data = pd.DataFrame(data_code.data)"
   ]
  },
  {
   "cell_type": "markdown",
   "metadata": {},
   "source": [
    "# Get Investing Links"
   ]
  },
  {
   "cell_type": "code",
   "execution_count": 49,
   "metadata": {},
   "outputs": [],
   "source": [
    "symbols = [ticker.lower().replace(\".jk\", \"\") for ticker in data[\"symbol\"][data[\"current_source\"] == 2].tolist()]\n",
    "avail_data =  [ 'bbca', 'amar', 'maba', 'cowl', 'btps', 'agrs', 'agro', 'life','bmas', 'bvic', 'mega', 'bsim', 'arto', \n",
    "                'mrei', 'asrm', 'bmri', 'bbri', 'home', 'bpfi', 'smil', 'lpgi', 'bbkp', 'bris', 'bina', 'tril', 'forz',\n",
    "                'inet', 'bank', 'krah', 'dnar', 'amag', 'bcic', 'dcii', 'hill', 'plas', 'beks', 'hatm', 'pnbs', 'bbhi', \n",
    "                'nips', 'irsx', 'mcor', 'bbtn', 'bgtg', 'maya', 'bhat', 'nisp', 'nobu', 'goll', 'bnga',  'magp', 'npgf',\n",
    "                'imas', 'pnbn', 'bswd', 'pnin', 'bbyb', 'bjtm', 'babp', 'bbmd', 'abda', 'admf', 'kbri', 'jsky', 'baca', \n",
    "                'sdra', 'miti', 'tram', 'buah', 'btpn', 'bksw', 'bnba', 'bbsi', 'cuan', 'bnli', 'gsmf', 'asdm', 'casa', \n",
    "                'bdmn', 'pnlf', 'nusa', 'beef', 'skyb', 'sugi', 'smma', 'asmi', 'tugu', 'myrx', 'bbni', 'inpc', 'bnii', \n",
    "                'bjbr', 'hotl', 'army', 'duck', 'lcgp']\n",
    "na = [symbol for symbol in symbols if symbol not in avail_data]\n",
    "na_list = [miss.upper() + \".JK\" for miss in na]"
   ]
  },
  {
   "cell_type": "code",
   "execution_count": 50,
   "metadata": {},
   "outputs": [],
   "source": [
    "data = data[data[\"symbol\"].isin(na_list)]\n",
    "companies = [company.replace(\"pt \", \"\").replace(\" tbk\", \"\").replace(\" \", \"-\").replace(\".\", \"\").strip() for company in data[\"company_name\"].str.lower()]\n",
    "symbols = data[\"symbol\"].tolist()"
   ]
  },
  {
   "cell_type": "code",
   "execution_count": 56,
   "metadata": {},
   "outputs": [],
   "source": [
    "dict_na = {\n",
    "    \"symbols\" : [],\n",
    "    \"href\" : []\n",
    "}\n",
    "for stock in na:\n",
    "    link = f\"https://www.investing.com/search/?q={stock}\"\n",
    "    content = requests.get(link).text\n",
    "    soup = BeautifulSoup(content, 'html.parser')\n",
    "    search_results = soup.find_all(class_ = \"js-inner-all-results-quote-item row\")\n",
    "    for search_result in search_results:\n",
    "        text = search_result.get_text()\n",
    "        if \"Stock - Jakarta\" in text:\n",
    "            ticker = search_result.find(\"span\", class_ = \"second\")\n",
    "            if ticker.get_text().lower() == stock:\n",
    "                dict_na[\"symbols\"].append(stock)\n",
    "                dict_na[\"href\"].append(search_result[\"href\"])"
   ]
  },
  {
   "cell_type": "code",
   "execution_count": 58,
   "metadata": {},
   "outputs": [],
   "source": [
    "data_link = pd.DataFrame(dict_na)\n",
    "data_link = data_link[data_link[\"symbols\"] != \"asha\"]\n",
    "leftover = {\n",
    "    \"unit\" : \"/equities/nusantara-inti\",\n",
    "    \"trus\" : \"/equities/trust-finance-indonesia-tbk-pt\",\n",
    "    \"gold\" : \"/equities/golden-retail\",\n",
    "    \"euro\" : \"/equities/estee-gold-feet-pt-tbk\",\n",
    "    \"digi\" : \"/equities/arkadia-digital\",\n",
    "    \"food\"  : \"/equities/sentra-food\",\n",
    "    \"glob\" : \"/equities/global-telesho\",\n",
    "    \"real\" : \"/equities/repower-asia-indonesia-pt\",\n",
    "    \"asha\" : \"/equities/cilacap-samudera-fishing-industry\",\n",
    "    \"cntx\" : \"/equities/centex-tbk-sp\"\n",
    "}\n",
    "lft = {\n",
    "    \"symbols\" : [],\n",
    "    \"href\" : []\n",
    "}\n",
    "for key, value in zip(leftover.keys(), leftover.values()):\n",
    "    lft[\"symbols\"].append(key)\n",
    "    lft[\"href\"].append(value)\n",
    "lft = pd.DataFrame(lft)\n",
    "data_link = pd.concat([data_link, lft])"
   ]
  },
  {
   "cell_type": "code",
   "execution_count": 60,
   "metadata": {},
   "outputs": [
    {
     "name": "stdout",
     "output_type": "stream",
     "text": [
      "error pada link /equities/maxindo-karya-anugerah?cid=1203353 dengan error: 'NoneType' object has no attribute 'get_text'\n",
      "error pada link /equities/pt-royaltama-mulia-kontraktorindo dengan error: 'NoneType' object has no attribute 'get_text'\n",
      "error pada link /equities/graha-mitra-asia-tbk-pt dengan error: 'NoneType' object has no attribute 'get_text'\n"
     ]
    }
   ],
   "source": [
    "extension = {\n",
    "    \"symbols\" : [],\n",
    "    \"id\" : [],\n",
    "    \"currency\" : [],\n",
    "    \"fold\" : []\n",
    "}\n",
    "for symbol, link in zip(data_link[\"symbols\"], data_link[\"href\"]):\n",
    "    try:\n",
    "        url = f\"https://www.investing.com{link}-financial-summary\"\n",
    "        html_content = requests.get(url).text\n",
    "        soup = BeautifulSoup(html_content, \"html.parser\")\n",
    "        check = soup.find(class_=\"headBtnWrapper float_lang_base_2 js-add-alert-widget\")\n",
    "        id = check[\"data-pair-id\"]\n",
    "        info = soup.find(class_=\"arial_11 lightgrayFont bottomRemark\").get_text()\n",
    "        currency = \"IDR\" if \"IDR\" in info else \"USD\"\n",
    "        fold = \"Millions\" if \"Millions\" in info else \"Billions\"\n",
    "        extension[\"symbols\"].append(symbol)\n",
    "        extension[\"id\"].append(id)\n",
    "        extension[\"currency\"].append(currency)\n",
    "        extension[\"fold\"].append(fold)\n",
    "    except Exception as e:\n",
    "        print(f\"error pada link {link} dengan error: {e}\")\n",
    "        extension[\"symbols\"].append(symbol)\n",
    "        extension[\"id\"].append(np.nan)\n",
    "        extension[\"currency\"].append(np.nan)\n",
    "        extension[\"fold\"].append(np.nan)"
   ]
  },
  {
   "cell_type": "code",
   "execution_count": 67,
   "metadata": {},
   "outputs": [],
   "source": [
    "no_data = [\"klas\", \"rmko\", \"relf\"]\n",
    "data_link_new = pd.merge(data_link, pd.DataFrame(extension), on = \"symbols\")\n",
    "data_link_new = data_link_new[~data_link_new[\"symbols\"].isin(no_data)].reset_index(drop = True)\n",
    "data_link_new.to_csv(\"investing_link.csv\", index = False)"
   ]
  },
  {
   "cell_type": "code",
   "execution_count": 68,
   "metadata": {},
   "outputs": [],
   "source": [
    "status_dict = {\n",
    "    \"symbol\" : [],\n",
    "    \"status\" : [],\n",
    "    \"should_be_gross_margin\" : []\n",
    "}\n",
    "failure = []\n",
    "for symbol,company in zip(data_link_new[\"symbols\"], data_link_new[\"href\"]):\n",
    "        link = f\"https://www.investing.com{company}-financial-summary\"\n",
    "        status = str(requests.get(link))\n",
    "        try:\n",
    "            html_content = requests.get(link).text\n",
    "            soup = BeautifulSoup(html_content, 'html.parser')\n",
    "            values = soup.find(\"span\", class_=\"float_lang_base_1\")\n",
    "            status_dict[\"should_be_gross_margin\"].append(values.get_text())\n",
    "            status_dict[\"symbol\"].append(symbol.upper() + \".JK\")\n",
    "            status_dict[\"status\"].append(status)\n",
    "        except Exception as e:\n",
    "            print(f\"symbol {symbol} error: {e}\")\n",
    "            failure.append(symbol)"
   ]
  },
  {
   "cell_type": "code",
   "execution_count": 38,
   "metadata": {},
   "outputs": [
    {
     "data": {
      "text/plain": [
       "['KLAS.JK', 'RMKO.JK', 'RELF.JK']"
      ]
     },
     "execution_count": 38,
     "metadata": {},
     "output_type": "execute_result"
    }
   ],
   "source": [
    "status_df = pd.DataFrame(status_dict)\n",
    "[symbol for symbol in na_list if symbol not in status_df[\"symbol\"][status_df[\"should_be_gross_margin\"] == \"Gross margin\"].tolist()]"
   ]
  },
  {
   "cell_type": "markdown",
   "metadata": {},
   "source": [
    "3 symbol di atas tidak bisa discraping pada investing.com"
   ]
  },
  {
   "cell_type": "markdown",
   "metadata": {},
   "source": [
    "# Scraper Initialization"
   ]
  },
  {
   "cell_type": "code",
   "execution_count": 69,
   "metadata": {},
   "outputs": [],
   "source": [
    "data_link = pd.read_csv(\"investing_link.csv\")"
   ]
  },
  {
   "cell_type": "code",
   "execution_count": 70,
   "metadata": {},
   "outputs": [
    {
     "data": {
      "text/html": [
       "<div>\n",
       "<style scoped>\n",
       "    .dataframe tbody tr th:only-of-type {\n",
       "        vertical-align: middle;\n",
       "    }\n",
       "\n",
       "    .dataframe tbody tr th {\n",
       "        vertical-align: top;\n",
       "    }\n",
       "\n",
       "    .dataframe thead th {\n",
       "        text-align: right;\n",
       "    }\n",
       "</style>\n",
       "<table border=\"1\" class=\"dataframe\">\n",
       "  <thead>\n",
       "    <tr style=\"text-align: right;\">\n",
       "      <th></th>\n",
       "      <th>symbols</th>\n",
       "      <th>href</th>\n",
       "      <th>id</th>\n",
       "      <th>currency</th>\n",
       "      <th>fold</th>\n",
       "    </tr>\n",
       "  </thead>\n",
       "  <tbody>\n",
       "    <tr>\n",
       "      <th>0</th>\n",
       "      <td>cbre</td>\n",
       "      <td>/equities/cakra-buana-resources-energi-pt-tbk</td>\n",
       "      <td>1198683</td>\n",
       "      <td>IDR</td>\n",
       "      <td>Millions</td>\n",
       "    </tr>\n",
       "    <tr>\n",
       "      <th>1</th>\n",
       "      <td>laju</td>\n",
       "      <td>/equities/pt-jasa-berdikari-logistics-tbk</td>\n",
       "      <td>1199667</td>\n",
       "      <td>IDR</td>\n",
       "      <td>Millions</td>\n",
       "    </tr>\n",
       "    <tr>\n",
       "      <th>2</th>\n",
       "      <td>atap</td>\n",
       "      <td>/equities/trimitra-prawara-goldland-tbk-pt</td>\n",
       "      <td>1168052</td>\n",
       "      <td>IDR</td>\n",
       "      <td>Millions</td>\n",
       "    </tr>\n",
       "    <tr>\n",
       "      <th>3</th>\n",
       "      <td>cash</td>\n",
       "      <td>/equities/cashlez-worldwide-indonesia-tbk</td>\n",
       "      <td>1161015</td>\n",
       "      <td>IDR</td>\n",
       "      <td>Millions</td>\n",
       "    </tr>\n",
       "    <tr>\n",
       "      <th>4</th>\n",
       "      <td>cbpe</td>\n",
       "      <td>/equities/pt-citra-buana-prasida-tbk</td>\n",
       "      <td>1198668</td>\n",
       "      <td>IDR</td>\n",
       "      <td>Millions</td>\n",
       "    </tr>\n",
       "    <tr>\n",
       "      <th>...</th>\n",
       "      <td>...</td>\n",
       "      <td>...</td>\n",
       "      <td>...</td>\n",
       "      <td>...</td>\n",
       "      <td>...</td>\n",
       "    </tr>\n",
       "    <tr>\n",
       "      <th>225</th>\n",
       "      <td>food</td>\n",
       "      <td>/equities/sentra-food</td>\n",
       "      <td>1117859</td>\n",
       "      <td>IDR</td>\n",
       "      <td>Millions</td>\n",
       "    </tr>\n",
       "    <tr>\n",
       "      <th>226</th>\n",
       "      <td>glob</td>\n",
       "      <td>/equities/global-telesho</td>\n",
       "      <td>101415</td>\n",
       "      <td>IDR</td>\n",
       "      <td>Millions</td>\n",
       "    </tr>\n",
       "    <tr>\n",
       "      <th>227</th>\n",
       "      <td>real</td>\n",
       "      <td>/equities/repower-asia-indonesia-pt</td>\n",
       "      <td>1155912</td>\n",
       "      <td>IDR</td>\n",
       "      <td>Millions</td>\n",
       "    </tr>\n",
       "    <tr>\n",
       "      <th>228</th>\n",
       "      <td>asha</td>\n",
       "      <td>/equities/cilacap-samudera-fishing-industry</td>\n",
       "      <td>1191905</td>\n",
       "      <td>IDR</td>\n",
       "      <td>Millions</td>\n",
       "    </tr>\n",
       "    <tr>\n",
       "      <th>229</th>\n",
       "      <td>cntx</td>\n",
       "      <td>/equities/centex-tbk-sp</td>\n",
       "      <td>102969</td>\n",
       "      <td>USD</td>\n",
       "      <td>Millions</td>\n",
       "    </tr>\n",
       "  </tbody>\n",
       "</table>\n",
       "<p>230 rows × 5 columns</p>\n",
       "</div>"
      ],
      "text/plain": [
       "    symbols                                           href       id currency  \\\n",
       "0      cbre  /equities/cakra-buana-resources-energi-pt-tbk  1198683      IDR   \n",
       "1      laju      /equities/pt-jasa-berdikari-logistics-tbk  1199667      IDR   \n",
       "2      atap     /equities/trimitra-prawara-goldland-tbk-pt  1168052      IDR   \n",
       "3      cash      /equities/cashlez-worldwide-indonesia-tbk  1161015      IDR   \n",
       "4      cbpe           /equities/pt-citra-buana-prasida-tbk  1198668      IDR   \n",
       "..      ...                                            ...      ...      ...   \n",
       "225    food                          /equities/sentra-food  1117859      IDR   \n",
       "226    glob                       /equities/global-telesho   101415      IDR   \n",
       "227    real            /equities/repower-asia-indonesia-pt  1155912      IDR   \n",
       "228    asha    /equities/cilacap-samudera-fishing-industry  1191905      IDR   \n",
       "229    cntx                        /equities/centex-tbk-sp   102969      USD   \n",
       "\n",
       "         fold  \n",
       "0    Millions  \n",
       "1    Millions  \n",
       "2    Millions  \n",
       "3    Millions  \n",
       "4    Millions  \n",
       "..        ...  \n",
       "225  Millions  \n",
       "226  Millions  \n",
       "227  Millions  \n",
       "228  Millions  \n",
       "229  Millions  \n",
       "\n",
       "[230 rows x 5 columns]"
      ]
     },
     "execution_count": 70,
     "metadata": {},
     "output_type": "execute_result"
    }
   ],
   "source": [
    "data_link"
   ]
  },
  {
   "cell_type": "code",
   "execution_count": 71,
   "metadata": {},
   "outputs": [],
   "source": [
    "expected_value = [\n",
    "    # Income Statement\n",
    "    \"Total Revenue\", \"Net Income\", \"Diluted Weighted Average Shares\",\n",
    "    \"Gross Profit\", \"Net Income Before Taxes\", \"Provision for Income Taxes\",\n",
    "    \"Interest Expense (Income) - Net Operating\", \"Operating Income\",\n",
    "    \"Cash & Due from Banks\",\n",
    "\n",
    "    # Balance Sheet\n",
    "    \"Total Assets\", \"Total Liabilities\", \"Total Current Liabilities\", \n",
    "    \"Total Equity\", \"Current Port. of LT Debt/Capital Leases\", \n",
    "    \"Total Long Term Debt\", \"Total Liabilities & Shareholders' Equity\", \n",
    "    \"Minority Interest\", \"Cash and Short Term Investments\", \n",
    "    \"Cash & Equivalents\", \"Total Current Assets\",\n",
    "\n",
    "    # Cash FLow\n",
    "    \"Cash From Operating Activities\", \"Free Cash Flow\"\n",
    "]"
   ]
  },
  {
   "cell_type": "code",
   "execution_count": 72,
   "metadata": {},
   "outputs": [],
   "source": [
    "url_currency = 'https://raw.githubusercontent.com/supertypeai/sectors_get_conversion_rate/master/conversion_rate.json'\n",
    "response = requests.get(url_currency)\n",
    "data = response.json()\n",
    "rate = float(data['USD']['IDR'])"
   ]
  },
  {
   "cell_type": "markdown",
   "metadata": {},
   "source": [
    "# Scraper Qquarterly"
   ]
  },
  {
   "cell_type": "code",
   "execution_count": 78,
   "metadata": {},
   "outputs": [],
   "source": [
    "data_list = []\n",
    "\n",
    "def get_values(soup, data_dict):\n",
    "    # info = soup.find(class_=\"arial_11 lightgrayFont bottomRemark\").get_text()\n",
    "    # currency = \"IDR\" if \"IDR\" in info else \"USD\"\n",
    "    # fold = \"Millions\" if \"Millions\" in info else \"Billions\"\n",
    "    tbodies = soup.find(\"tbody\")\n",
    "    rows = tbodies.find_all(\"tr\")\n",
    "    for row in rows:\n",
    "        td = row.find_all(\"td\")\n",
    "        key = td[0].find(\"span\").get_text()\n",
    "        values = [t.get_text() if t.get_text() != \"-\" else np.nan for t in td[1:]]\n",
    "        if len(values) > 4:\n",
    "            continue\n",
    "        # if key == \"Diluted Weighted Average Shares\":\n",
    "        #     data_dict[key] = [float(value) for value in values]\n",
    "        #     continue\n",
    "        try:\n",
    "            if currency == \"USD\":\n",
    "                if fold == \"Billions\":\n",
    "                    values = [float(value) * rate * 1000000000 for value in values]\n",
    "                else:\n",
    "                    values = [float(value) * rate * 1000000 for value in values]\n",
    "            else:\n",
    "                if fold == \"Billions\":\n",
    "                    values = [float(value) * 1000000000 for value in values]\n",
    "                else:\n",
    "                    values = [float(value) * 1000000 for value in values]\n",
    "        except Exception as e:\n",
    "            print(f\"error di {symbol}, dengan error: {e}\")\n",
    "        # print(\"values: \", values)\n",
    "        if key in expected_value:\n",
    "            data_dict[key] = values\n",
    "\n",
    "for index, row in data_link.iterrows():\n",
    "# for symbol, link in zip(data_link[\"symbols\"].tolist()[:5], data_link[\"href\"].tolist()[:5]):\n",
    "    # Income Statement\n",
    "    if index == 4:\n",
    "        break\n",
    "    symbol = row[\"symbols\"]\n",
    "    link = row[\"href\"]\n",
    "    currency = row[\"currency\"]\n",
    "    fold = row[\"fold\"]\n",
    "    is_url = f\"https://www.investing.com{link}-income-statement\"\n",
    "    html_content = requests.get(is_url).text\n",
    "    soup = BeautifulSoup(html_content, \"html.parser\")\n",
    "    period = soup.find(\"tr\", class_ = \"alignBottom\")\n",
    "    quarters = period.find_all(\"th\")\n",
    "    data_dict = {\"symbol\" : [], \"date\" : []}\n",
    "    for quarter in quarters:\n",
    "        try:\n",
    "            year = quarter.find(\"span\").get_text()\n",
    "            day, month = quarter.find(\"div\").get_text().split(\"/\")\n",
    "            date = str(year) + \"-\" + str(month) + \"-\" + str(day)\n",
    "            data_dict[\"symbol\"].append(symbol.upper() + \".JK\")\n",
    "            data_dict[\"date\"].append(date)\n",
    "        except:\n",
    "            pass\n",
    "    get_values(soup, data_dict)\n",
    "    # Balance Sheet\n",
    "    bs_url = f\"https://www.investing.com{link}-balance-sheet\"\n",
    "    html_content = requests.get(bs_url).text\n",
    "    soup = BeautifulSoup(html_content, \"html.parser\")\n",
    "    get_values(soup, data_dict)\n",
    "    # Cash Flow\n",
    "    bs_url = f\"https://www.investing.com{link}-cash-flow\"\n",
    "    html_content = requests.get(bs_url).text\n",
    "    soup = BeautifulSoup(html_content, \"html.parser\")\n",
    "    get_values(soup, data_dict)\n",
    "    not_avail = [na for na in expected_value if na not in data_dict.keys()]\n",
    "    for na in not_avail:\n",
    "        data_dict[na] = [np.nan, np.nan, np.nan, np.nan]\n",
    "    data_list.append(pd.DataFrame(data_dict))"
   ]
  },
  {
   "cell_type": "code",
   "execution_count": 80,
   "metadata": {},
   "outputs": [],
   "source": [
    "df = pd.concat(data_list)\n",
    "df[\"total_debt\"] = df[\"Current Port. of LT Debt/Capital Leases\"] + df[\"Total Long Term Debt\"]\n",
    "df[\"stackholders_equity\"] = df[\"Total Liabilities & Shareholders' Equity\"] - df[\"Total Liabilities\"] - df[\"Minority Interest\"]\n",
    "df[\"ebit\"] = df[\"Net Income Before Taxes\"] - df[\"Interest Expense (Income) - Net Operating\"]\n",
    "df[\"total_non_current_assets\"] = df[\"Total Assets\"] - df[\"Total Current Assets\"]\n",
    "df[\"ebitda\"] = np.nan"
   ]
  },
  {
   "cell_type": "code",
   "execution_count": 81,
   "metadata": {},
   "outputs": [
    {
     "data": {
      "text/plain": [
       "Index(['symbol', 'date', 'Total Revenue', 'Gross Profit',\n",
       "       'Interest Expense (Income) - Net Operating', 'Operating Income',\n",
       "       'Net Income Before Taxes', 'Provision for Income Taxes',\n",
       "       'Minority Interest', 'Net Income', 'Diluted Weighted Average Shares',\n",
       "       'Total Current Assets', 'Cash and Short Term Investments',\n",
       "       'Cash & Equivalents', 'Total Assets', 'Total Current Liabilities',\n",
       "       'Current Port. of LT Debt/Capital Leases', 'Total Liabilities',\n",
       "       'Total Long Term Debt', 'Total Equity',\n",
       "       'Total Liabilities & Shareholders' Equity',\n",
       "       'Cash From Operating Activities', 'Free Cash Flow',\n",
       "       'Cash & Due from Banks', 'total_debt', 'stackholders_equity', 'ebit',\n",
       "       'total_non_current_assets', 'ebitda'],\n",
       "      dtype='object')"
      ]
     },
     "execution_count": 81,
     "metadata": {},
     "output_type": "execute_result"
    }
   ],
   "source": [
    "df.columns"
   ]
  },
  {
   "cell_type": "code",
   "execution_count": 27,
   "metadata": {},
   "outputs": [],
   "source": [
    "columns_rename = {\n",
    "    \"Cash From Operating Activities\" : \"net_operating_cash_flow\",\n",
    "    \"Total Assets\" : \"total_assets\",\n",
    "    \"Total Liabilities\" : \"total_liabilities\",\n",
    "    \"Total Current Liabilities\" : \"total_current_liabilities\",\n",
    "    \"Total Equity\" : \"total_equity\",\n",
    "    \"Total Revenue\" : \"total_revenue\",\n",
    "    \"Net Income\" : \"net_income\",\n",
    "    # \"total_debt\",\n",
    "    # \"stockholders_equity\",\n",
    "    # \"ebit\",\n",
    "    # \"ebitda\",\n",
    "    # \"total_non_current_assets\",\n",
    "    \"Cash and Short Term Investments\" : \"cash_and_short_term_investments\",\n",
    "    \"Cash & Equivalents\" : \"cash_only\",\n",
    "    \"Cash & Due from Banks\" : \"total_cash_and_due_from_banks\",\n",
    "    \"Diluted Weighted Average Shares\" : \"diluted_shares_outstanding\",\n",
    "    \"Gross Profit\" : \"gross_income\",\n",
    "    \"Net Income Before Taxes\" : \"pretax_income\",\n",
    "    \"Provision for Income Taxes\" : \"income_taxes\",\n",
    "    \"Free Cash Flow\" : \"free_cash_flow\",\n",
    "    \"Interest Expense (Income) - Net Operating\" : \"interest_expense_non_operating\",\n",
    "    \"Operating Income\" : \"operating_income\"\n",
    "}\n",
    "data = df.rename(columns=columns_rename).drop(['Minority Interest', 'Current Port. of LT Debt/Capital Leases', 'Total Long Term Debt', \"Total Liabilities & Shareholders' Equity\", \"Total Current Assets\"], axis = 1)"
   ]
  },
  {
   "cell_type": "markdown",
   "metadata": {},
   "source": [
    "# Scraper Annual"
   ]
  },
  {
   "cell_type": "code",
   "execution_count": null,
   "metadata": {},
   "outputs": [],
   "source": [
    "def get_values(soup, data_dict):\n",
    "    info = soup.find(class_=\"arial_11 lightgrayFont bottomRemark\").get_text()\n",
    "    currency = \"IDR\" if \"IDR\" in info else \"USD\"\n",
    "    fold = \"Millions\" if \"Millions\" in info else \"Billions\"\n",
    "    tbodies = soup.find(\"tbody\")\n",
    "    rows = tbodies.find_all(\"tr\")\n",
    "    for row in rows:\n",
    "        td = row.find_all(\"td\")\n",
    "        key = td[0].find(\"span\").get_text()\n",
    "        values = [t.get_text() if t.get_text() != \"-\" else np.nan for t in td[1:]]\n",
    "        if len(values) > 4:\n",
    "            continue\n",
    "        # if key == \"Diluted Weighted Average Shares\":\n",
    "        #     data_dict[key] = [float(value) for value in values]\n",
    "        #     continue\n",
    "        try:\n",
    "            if currency == \"USD\":\n",
    "                if fold == \"Billions\":\n",
    "                    values = [float(value) * rate * 1000000000 for value in values]\n",
    "                else:\n",
    "                    values = [float(value) * rate * 1000000 for value in values]\n",
    "            else:\n",
    "                if fold == \"Billions\":\n",
    "                    values = [float(value) * 1000000000 for value in values]\n",
    "                else:\n",
    "                    values = [float(value) * 1000000 for value in values]\n",
    "        except Exception as e:\n",
    "            print(f\"error di {symbol}, dengan error: {e}\")\n",
    "        # print(\"values: \", values)\n",
    "        if key in expected_value:\n",
    "            data_dict[key] = values"
   ]
  },
  {
   "cell_type": "code",
   "execution_count": 46,
   "metadata": {},
   "outputs": [
    {
     "ename": "AttributeError",
     "evalue": "'NoneType' object has no attribute 'get_text'",
     "output_type": "error",
     "traceback": [
      "\u001b[1;31m---------------------------------------------------------------------------\u001b[0m",
      "\u001b[1;31mAttributeError\u001b[0m                            Traceback (most recent call last)",
      "Cell \u001b[1;32mIn[46], line 27\u001b[0m\n\u001b[0;32m     25\u001b[0m         \u001b[38;5;28mprint\u001b[39m(\u001b[38;5;124mf\u001b[39m\u001b[38;5;124m\"\u001b[39m\u001b[38;5;124merror pada \u001b[39m\u001b[38;5;132;01m{\u001b[39;00msymbol\u001b[38;5;132;01m}\u001b[39;00m\u001b[38;5;124m: \u001b[39m\u001b[38;5;132;01m{\u001b[39;00me\u001b[38;5;132;01m}\u001b[39;00m\u001b[38;5;124m\"\u001b[39m)\n\u001b[0;32m     26\u001b[0m         \u001b[38;5;28;01mpass\u001b[39;00m\n\u001b[1;32m---> 27\u001b[0m \u001b[43mget_values\u001b[49m\u001b[43m(\u001b[49m\u001b[43msoup\u001b[49m\u001b[43m,\u001b[49m\u001b[43m \u001b[49m\u001b[43mdata_dict\u001b[49m\u001b[43m)\u001b[49m\n\u001b[0;32m     28\u001b[0m bs_url \u001b[38;5;241m=\u001b[39m \u001b[38;5;124mf\u001b[39m\u001b[38;5;124m\"\u001b[39m\u001b[38;5;124mhttps://www.investing.com/instruments/Financials/changereporttypeajax?action=change_report_type&pair_ID=\u001b[39m\u001b[38;5;132;01m{\u001b[39;00m\u001b[38;5;28mid\u001b[39m\u001b[38;5;132;01m}\u001b[39;00m\u001b[38;5;124m&report_type=BAL&period_type=Annual\u001b[39m\u001b[38;5;124m\"\u001b[39m\n\u001b[0;32m     29\u001b[0m cf_url \u001b[38;5;241m=\u001b[39m \u001b[38;5;124mf\u001b[39m\u001b[38;5;124m\"\u001b[39m\u001b[38;5;124mhttps://www.investing.com/instruments/Financials/changereporttypeajax?action=change_report_type&pair_ID=\u001b[39m\u001b[38;5;132;01m{\u001b[39;00m\u001b[38;5;28mid\u001b[39m\u001b[38;5;132;01m}\u001b[39;00m\u001b[38;5;124m&report_type=CAS&period_type=Annual\u001b[39m\u001b[38;5;124m\"\u001b[39m\n",
      "Cell \u001b[1;32mIn[44], line 4\u001b[0m, in \u001b[0;36mget_values\u001b[1;34m(soup, data_dict)\u001b[0m\n\u001b[0;32m      3\u001b[0m \u001b[38;5;28;01mdef\u001b[39;00m \u001b[38;5;21mget_values\u001b[39m(soup, data_dict):\n\u001b[1;32m----> 4\u001b[0m     info \u001b[38;5;241m=\u001b[39m \u001b[43msoup\u001b[49m\u001b[38;5;241;43m.\u001b[39;49m\u001b[43mfind\u001b[49m\u001b[43m(\u001b[49m\u001b[43mclass_\u001b[49m\u001b[38;5;241;43m=\u001b[39;49m\u001b[38;5;124;43m\"\u001b[39;49m\u001b[38;5;124;43marial_11 lightgrayFont bottomRemark\u001b[39;49m\u001b[38;5;124;43m\"\u001b[39;49m\u001b[43m)\u001b[49m\u001b[38;5;241;43m.\u001b[39;49m\u001b[43mget_text\u001b[49m()\n\u001b[0;32m      5\u001b[0m     currency \u001b[38;5;241m=\u001b[39m \u001b[38;5;124m\"\u001b[39m\u001b[38;5;124mIDR\u001b[39m\u001b[38;5;124m\"\u001b[39m \u001b[38;5;28;01mif\u001b[39;00m \u001b[38;5;124m\"\u001b[39m\u001b[38;5;124mIDR\u001b[39m\u001b[38;5;124m\"\u001b[39m \u001b[38;5;129;01min\u001b[39;00m info \u001b[38;5;28;01melse\u001b[39;00m \u001b[38;5;124m\"\u001b[39m\u001b[38;5;124mUSD\u001b[39m\u001b[38;5;124m\"\u001b[39m\n\u001b[0;32m      6\u001b[0m     fold \u001b[38;5;241m=\u001b[39m \u001b[38;5;124m\"\u001b[39m\u001b[38;5;124mMillions\u001b[39m\u001b[38;5;124m\"\u001b[39m \u001b[38;5;28;01mif\u001b[39;00m \u001b[38;5;124m\"\u001b[39m\u001b[38;5;124mMillions\u001b[39m\u001b[38;5;124m\"\u001b[39m \u001b[38;5;129;01min\u001b[39;00m info \u001b[38;5;28;01melse\u001b[39;00m \u001b[38;5;124m\"\u001b[39m\u001b[38;5;124mBillions\u001b[39m\u001b[38;5;124m\"\u001b[39m\n",
      "\u001b[1;31mAttributeError\u001b[0m: 'NoneType' object has no attribute 'get_text'"
     ]
    }
   ],
   "source": [
    "data_list = []\n",
    "for symbol, id in zip(data_link[\"symbols\"].tolist()[:5], data_link[\"id\"].tolist()[:5]):\n",
    "    is_url = f\"https://www.investing.com/instruments/Financials/changereporttypeajax?action=change_report_type&pair_ID={id}&report_type=INC&period_type=Annual\"\n",
    "    html_content = requests.get(is_url).text\n",
    "    soup = BeautifulSoup(html_content, \"html.parser\")\n",
    "    periods = soup.find_all(\"th\")\n",
    "    data_dict = {\n",
    "        \"symbol\" : [],\n",
    "        \"date\" : []\n",
    "    }\n",
    "    dates = []\n",
    "    for index, period in enumerate(periods[1:]):\n",
    "        data_dict[\"symbol\"].append(symbol.upper() + \".JK\")\n",
    "        if period.get_text() == \"\":\n",
    "            date = datetime.strptime(data_dict[\"date\"][-1], '%Y-%m-%d').date()\n",
    "            date = str(date.replace(year=date.year-1))\n",
    "            data_dict[\"date\"].append(date)\n",
    "            continue\n",
    "        try:\n",
    "            year = period.find(\"span\").get_text()\n",
    "            day, month = period.find(\"div\").get_text().split(\"/\")\n",
    "            date = str(year) + \"-\" + str(month) + \"-\" + str(day)\n",
    "            data_dict[\"date\"].append(date)\n",
    "        except Exception as e:\n",
    "            print(f\"error pada {symbol}: {e}\")\n",
    "            pass\n",
    "    get_values(soup, data_dict)\n",
    "    bs_url = f\"https://www.investing.com/instruments/Financials/changereporttypeajax?action=change_report_type&pair_ID={id}&report_type=BAL&period_type=Annual\"\n",
    "    cf_url = f\"https://www.investing.com/instruments/Financials/changereporttypeajax?action=change_report_type&pair_ID={id}&report_type=CAS&period_type=Annual\"\n",
    "    data_list.append(pd.DataFrame(data_dict))\n",
    "pd.concat(data_list).reset_index(drop = True)"
   ]
  },
  {
   "cell_type": "code",
   "execution_count": 36,
   "metadata": {},
   "outputs": [
    {
     "data": {
      "text/plain": [
       "{'symbol': ['CBPE.JK', 'CBPE.JK', 'CBPE.JK', 'CBPE.JK'],\n",
       " 'date': ['2023-12-31', '2022-12-31', '2021-12-31', '2020-12-31']}"
      ]
     },
     "execution_count": 36,
     "metadata": {},
     "output_type": "execute_result"
    }
   ],
   "source": [
    "data_dict"
   ]
  },
  {
   "cell_type": "code",
   "execution_count": 37,
   "metadata": {},
   "outputs": [
    {
     "data": {
      "text/html": [
       "<div>\n",
       "<style scoped>\n",
       "    .dataframe tbody tr th:only-of-type {\n",
       "        vertical-align: middle;\n",
       "    }\n",
       "\n",
       "    .dataframe tbody tr th {\n",
       "        vertical-align: top;\n",
       "    }\n",
       "\n",
       "    .dataframe thead th {\n",
       "        text-align: right;\n",
       "    }\n",
       "</style>\n",
       "<table border=\"1\" class=\"dataframe\">\n",
       "  <thead>\n",
       "    <tr style=\"text-align: right;\">\n",
       "      <th></th>\n",
       "      <th>symbols</th>\n",
       "      <th>href</th>\n",
       "      <th>id</th>\n",
       "    </tr>\n",
       "  </thead>\n",
       "  <tbody>\n",
       "    <tr>\n",
       "      <th>0</th>\n",
       "      <td>cbre</td>\n",
       "      <td>/equities/cakra-buana-resources-energi-pt-tbk</td>\n",
       "      <td>1198683</td>\n",
       "    </tr>\n",
       "    <tr>\n",
       "      <th>1</th>\n",
       "      <td>laju</td>\n",
       "      <td>/equities/pt-jasa-berdikari-logistics-tbk</td>\n",
       "      <td>1199667</td>\n",
       "    </tr>\n",
       "    <tr>\n",
       "      <th>2</th>\n",
       "      <td>atap</td>\n",
       "      <td>/equities/trimitra-prawara-goldland-tbk-pt</td>\n",
       "      <td>1168052</td>\n",
       "    </tr>\n",
       "    <tr>\n",
       "      <th>3</th>\n",
       "      <td>cash</td>\n",
       "      <td>/equities/cashlez-worldwide-indonesia-tbk</td>\n",
       "      <td>1161015</td>\n",
       "    </tr>\n",
       "    <tr>\n",
       "      <th>4</th>\n",
       "      <td>cbpe</td>\n",
       "      <td>/equities/pt-citra-buana-prasida-tbk</td>\n",
       "      <td>1198668</td>\n",
       "    </tr>\n",
       "    <tr>\n",
       "      <th>...</th>\n",
       "      <td>...</td>\n",
       "      <td>...</td>\n",
       "      <td>...</td>\n",
       "    </tr>\n",
       "    <tr>\n",
       "      <th>228</th>\n",
       "      <td>food</td>\n",
       "      <td>/equities/sentra-food</td>\n",
       "      <td>1117859</td>\n",
       "    </tr>\n",
       "    <tr>\n",
       "      <th>229</th>\n",
       "      <td>glob</td>\n",
       "      <td>/equities/global-telesho</td>\n",
       "      <td>101415</td>\n",
       "    </tr>\n",
       "    <tr>\n",
       "      <th>230</th>\n",
       "      <td>real</td>\n",
       "      <td>/equities/repower-asia-indonesia-pt</td>\n",
       "      <td>1155912</td>\n",
       "    </tr>\n",
       "    <tr>\n",
       "      <th>231</th>\n",
       "      <td>asha</td>\n",
       "      <td>/equities/cilacap-samudera-fishing-industry</td>\n",
       "      <td>1191905</td>\n",
       "    </tr>\n",
       "    <tr>\n",
       "      <th>232</th>\n",
       "      <td>cntx</td>\n",
       "      <td>/equities/centex-tbk-sp</td>\n",
       "      <td>102969</td>\n",
       "    </tr>\n",
       "  </tbody>\n",
       "</table>\n",
       "<p>233 rows × 3 columns</p>\n",
       "</div>"
      ],
      "text/plain": [
       "    symbols                                           href       id\n",
       "0      cbre  /equities/cakra-buana-resources-energi-pt-tbk  1198683\n",
       "1      laju      /equities/pt-jasa-berdikari-logistics-tbk  1199667\n",
       "2      atap     /equities/trimitra-prawara-goldland-tbk-pt  1168052\n",
       "3      cash      /equities/cashlez-worldwide-indonesia-tbk  1161015\n",
       "4      cbpe           /equities/pt-citra-buana-prasida-tbk  1198668\n",
       "..      ...                                            ...      ...\n",
       "228    food                          /equities/sentra-food  1117859\n",
       "229    glob                       /equities/global-telesho   101415\n",
       "230    real            /equities/repower-asia-indonesia-pt  1155912\n",
       "231    asha    /equities/cilacap-samudera-fishing-industry  1191905\n",
       "232    cntx                        /equities/centex-tbk-sp   102969\n",
       "\n",
       "[233 rows x 3 columns]"
      ]
     },
     "execution_count": 37,
     "metadata": {},
     "output_type": "execute_result"
    }
   ],
   "source": [
    "data_link"
   ]
  },
  {
   "cell_type": "code",
   "execution_count": 9,
   "metadata": {},
   "outputs": [
    {
     "data": {
      "text/plain": [
       "'<table class=\"genTbl reportTbl\">\\n    <tr class=\"alignBottom\" id=\"header_row\">\\n\\t\\t\\t  <th><span class=\"lightgrayFont arial_11 noBold\">Period Ending:</span></th>\\n                 <th><span class=\"bold\">2023</span><div class=\"noBold arial_11\">31/12</div></th>\\n                 <th><span class=\"bold\">2022</span><div class=\"noBold arial_11\">31/12</div></th>\\n                 <th><span class=\"bold\">2021</span><div class=\"noBold arial_11\">31/12</div></th>\\n                 <th><span class=\"bold\">2020</span><div class=\"noBold arial_11\">31/12</div></th>\\n\\n             </tr>\\n        </thead>\\n    <tbody>\\n        <tr class=\"openTr pointer\" id=\"parentTr\">\\n        <td><span class=\" bold\">Total Revenue<span class=\"dropDownArrowLightGray\"></span></span></td>\\n        <td>84828.48</td>\\n        <td>60710.91</td>\\n        <td>66834.67</td>\\n        <td>-</td>\\n    </tr><tr class=\"noHover\" id=\"childTr\"><td colspan=\"5\" class=\"innerTD\"><div><table class=\"genTbl reportTbl\"><tbody>            <tr class=\"child\">\\n        <td><span class=\"\">Revenue</span></td>\\n        <td>84828.48</td>\\n        <td>60710.91</td>\\n        <td>66834.67</td>\\n        <td>-</td>\\n    </tr>            <tr class=\"child last\">\\n        <td><span class=\"\">Other Revenue, Total</span></td>\\n        <td>-</td>\\n        <td>-</td>\\n        <td>-</td>\\n        <td>-</td>\\n    </tr></tbody></table></div></td></tr>            <tr>\\n        <td><span class=\"\">Cost of Revenue, Total</span></td>\\n        <td>26884.18</td>\\n        <td>16115</td>\\n        <td>17908.18</td>\\n        <td>-</td>\\n    </tr>            <tr>\\n        <td><span class=\" bold\">Gross Profit</span></td>\\n        <td>57944.31</td>\\n        <td>44595.92</td>\\n        <td>48926.49</td>\\n        <td>-</td>\\n    </tr>            <tr class=\"openTr pointer\" id=\"parentTr\">\\n        <td><span class=\" bold\">Total Operating Expenses<span class=\"dropDownArrowLightGray\"></span></span></td>\\n        <td>39247.8</td>\\n        <td>33182.67</td>\\n        <td>26821.1</td>\\n        <td>-</td>\\n    </tr><tr class=\"noHover\" id=\"childTr\"><td colspan=\"5\" class=\"innerTD\"><div><table class=\"genTbl reportTbl\"><tbody>            <tr class=\"child\">\\n        <td><span class=\"\">Selling/General/Admin. Expenses, Total</span></td>\\n        <td>12757.23</td>\\n        <td>16743.52</td>\\n        <td>9071.56</td>\\n        <td>-</td>\\n    </tr>            <tr class=\"child\">\\n        <td><span class=\"\">Research & Development</span></td>\\n        <td>-</td>\\n        <td>-</td>\\n        <td>-</td>\\n        <td>-</td>\\n    </tr>            <tr class=\"child\">\\n        <td><span class=\"\">Depreciation / Amortization</span></td>\\n        <td>-</td>\\n        <td>-</td>\\n        <td>-</td>\\n        <td>-</td>\\n    </tr>            <tr class=\"child\">\\n        <td><span class=\"\">Interest Expense (Income) - Net Operating</span></td>\\n        <td>-2631.23</td>\\n        <td>-4325.34</td>\\n        <td>-6245.22</td>\\n        <td>-</td>\\n    </tr>            <tr class=\"child\">\\n        <td><span class=\"\">Unusual Expense (Income)</span></td>\\n        <td>-</td>\\n        <td>-</td>\\n        <td>-</td>\\n        <td>-</td>\\n    </tr>            <tr class=\"child last\">\\n        <td><span class=\"\">Other Operating Expenses, Total</span></td>\\n        <td>2237.62</td>\\n        <td>4649.5</td>\\n        <td>6086.58</td>\\n        <td>-</td>\\n    </tr></tbody></table></div></td></tr>            <tr>\\n        <td><span class=\" bold\">Operating Income</span></td>\\n        <td>45580.68</td>\\n        <td>27528.24</td>\\n        <td>40013.58</td>\\n        <td>-</td>\\n    </tr>            <tr>\\n        <td><span class=\"\">Interest Income (Expense), Net Non-Operating</span></td>\\n        <td>-</td>\\n        <td>-</td>\\n        <td>-</td>\\n        <td>-</td>\\n    </tr>            <tr>\\n        <td><span class=\"\">Gain (Loss) on Sale of Assets</span></td>\\n        <td>-</td>\\n        <td>-</td>\\n        <td>-</td>\\n        <td>-</td>\\n    </tr>            <tr>\\n        <td><span class=\"\">Other, Net</span></td>\\n        <td>-471.65</td>\\n        <td>3699.14</td>\\n        <td>6044.99</td>\\n        <td>-</td>\\n    </tr>            <tr>\\n        <td><span class=\" bold\">Net Income Before Taxes</span></td>\\n        <td>46052.33</td>\\n        <td>23829.1</td>\\n        <td>33968.59</td>\\n        <td>-</td>\\n    </tr>            <tr>\\n        <td><span class=\"\">Provision for Income Taxes</span></td>\\n        <td>4669.15</td>\\n        <td>3317.58</td>\\n        <td>3808.18</td>\\n        <td>-</td>\\n    </tr>            <tr>\\n        <td><span class=\" bold\">Net Income After Taxes</span></td>\\n        <td>41383.18</td>\\n        <td>20511.52</td>\\n        <td>30160.41</td>\\n        <td>-</td>\\n    </tr>            <tr>\\n        <td><span class=\"\">Minority Interest</span></td>\\n        <td>-</td>\\n        <td>-</td>\\n        <td>-</td>\\n        <td>-</td>\\n    </tr>            <tr>\\n        <td><span class=\"\">Equity In Affiliates</span></td>\\n        <td>-</td>\\n        <td>-</td>\\n        <td>-</td>\\n        <td>-</td>\\n    </tr>            <tr>\\n        <td><span class=\"\">U.S GAAP Adjustment</span></td>\\n        <td>-</td>\\n        <td>-</td>\\n        <td>-</td>\\n        <td>-</td>\\n    </tr>            <tr>\\n        <td><span class=\" bold\">Net Income Before Extraordinary Items</span></td>\\n        <td>41383.18</td>\\n        <td>20511.52</td>\\n        <td>30160.41</td>\\n        <td>-</td>\\n    </tr>            <tr>\\n        <td><span class=\"\">Total Extraordinary Items</span></td>\\n        <td>-</td>\\n        <td>-</td>\\n        <td>-</td>\\n        <td>-</td>\\n    </tr>            <tr>\\n        <td><span class=\" bold\">Net Income</span></td>\\n        <td>41383.18</td>\\n        <td>20511.52</td>\\n        <td>30160.41</td>\\n        <td>-</td>\\n    </tr>            <tr>\\n        <td><span class=\"\">Total Adjustments to Net Income</span></td>\\n        <td>-</td>\\n        <td>-</td>\\n        <td>-</td>\\n        <td>-</td>\\n    </tr>            <tr>\\n        <td><span class=\" bold\">Income Available to Common Excluding Extraordinary Items</span></td>\\n        <td>41383.18</td>\\n        <td>20511.52</td>\\n        <td>30160.41</td>\\n        <td>-</td>\\n    </tr>            <tr>\\n        <td><span class=\"\">Dilution Adjustment</span></td>\\n        <td>-</td>\\n        <td>-</td>\\n        <td>-</td>\\n        <td>-</td>\\n    </tr>            <tr>\\n        <td><span class=\"\">Diluted Net Income</span></td>\\n        <td>41383.18</td>\\n        <td>20511.52</td>\\n        <td>30160.41</td>\\n        <td>-</td>\\n    </tr>            <tr>\\n        <td><span class=\"\">Diluted Weighted Average Shares</span></td>\\n        <td>1356.25</td>\\n        <td>901.25</td>\\n        <td>350</td>\\n        <td>-</td>\\n    </tr>            <tr>\\n        <td><span class=\" bold\">Diluted EPS Excluding Extraordinary Items</span></td>\\n        <td>30.51</td>\\n        <td>22.76</td>\\n        <td>86.17</td>\\n        <td>-</td>\\n    </tr>            <tr>\\n        <td><span class=\"\">DPS - Common Stock Primary Issue</span></td>\\n        <td>-</td>\\n        <td>1</td>\\n        <td>-</td>\\n        <td>-</td>\\n    </tr>            <tr>\\n        <td><span class=\"\">Diluted Normalized EPS</span></td>\\n        <td>21.22</td>\\n        <td>16.53</td>\\n        <td>60.66</td>\\n        <td>-</td>\\n    </tr>            </tbody>\\n\\n</table>\\n'"
      ]
     },
     "execution_count": 9,
     "metadata": {},
     "output_type": "execute_result"
    }
   ],
   "source": [
    "html_content"
   ]
  }
 ],
 "metadata": {
  "kernelspec": {
   "display_name": "Python 3",
   "language": "python",
   "name": "python3"
  },
  "language_info": {
   "codemirror_mode": {
    "name": "ipython",
    "version": 3
   },
   "file_extension": ".py",
   "mimetype": "text/x-python",
   "name": "python",
   "nbconvert_exporter": "python",
   "pygments_lexer": "ipython3",
   "version": "3.11.4"
  }
 },
 "nbformat": 4,
 "nbformat_minor": 2
}
